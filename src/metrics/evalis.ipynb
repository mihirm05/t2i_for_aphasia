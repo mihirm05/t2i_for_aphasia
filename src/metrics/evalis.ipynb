{
 "cells": [
  {
   "cell_type": "markdown",
   "metadata": {},
   "source": [
    "# Files needed\n",
    "* generated images"
   ]
  },
  {
   "cell_type": "markdown",
   "metadata": {},
   "source": [
    "# Necessary installations"
   ]
  },
  {
   "cell_type": "code",
   "execution_count": 3,
   "metadata": {
    "execution": {
     "iopub.execute_input": "2025-01-07T10:14:41.424167Z",
     "iopub.status.busy": "2025-01-07T10:14:41.423525Z",
     "iopub.status.idle": "2025-01-07T10:14:51.712318Z",
     "shell.execute_reply": "2025-01-07T10:14:51.710888Z",
     "shell.execute_reply.started": "2025-01-07T10:14:41.424129Z"
    },
    "trusted": true
   },
   "outputs": [
    {
     "name": "stdout",
     "output_type": "stream",
     "text": [
      "Requirement already satisfied: torch-fidelity in /opt/conda/lib/python3.10/site-packages (0.3.0)\n",
      "Requirement already satisfied: numpy in /opt/conda/lib/python3.10/site-packages (from torch-fidelity) (1.26.4)\n",
      "Requirement already satisfied: Pillow in /opt/conda/lib/python3.10/site-packages (from torch-fidelity) (10.3.0)\n",
      "Requirement already satisfied: scipy in /opt/conda/lib/python3.10/site-packages (from torch-fidelity) (1.14.1)\n",
      "Requirement already satisfied: torch in /opt/conda/lib/python3.10/site-packages (from torch-fidelity) (2.4.0+cpu)\n",
      "Requirement already satisfied: torchvision in /opt/conda/lib/python3.10/site-packages (from torch-fidelity) (0.19.0+cpu)\n",
      "Requirement already satisfied: tqdm in /opt/conda/lib/python3.10/site-packages (from torch-fidelity) (4.66.4)\n",
      "Requirement already satisfied: filelock in /opt/conda/lib/python3.10/site-packages (from torch->torch-fidelity) (3.15.1)\n",
      "Requirement already satisfied: typing-extensions>=4.8.0 in /opt/conda/lib/python3.10/site-packages (from torch->torch-fidelity) (4.12.2)\n",
      "Requirement already satisfied: sympy in /opt/conda/lib/python3.10/site-packages (from torch->torch-fidelity) (1.12)\n",
      "Requirement already satisfied: networkx in /opt/conda/lib/python3.10/site-packages (from torch->torch-fidelity) (3.3)\n",
      "Requirement already satisfied: jinja2 in /opt/conda/lib/python3.10/site-packages (from torch->torch-fidelity) (3.1.4)\n",
      "Requirement already satisfied: fsspec in /opt/conda/lib/python3.10/site-packages (from torch->torch-fidelity) (2024.6.1)\n",
      "Requirement already satisfied: MarkupSafe>=2.0 in /opt/conda/lib/python3.10/site-packages (from jinja2->torch->torch-fidelity) (2.1.5)\n",
      "Requirement already satisfied: mpmath>=0.19 in /opt/conda/lib/python3.10/site-packages (from sympy->torch->torch-fidelity) (1.3.0)\n"
     ]
    }
   ],
   "source": [
    "!pip install torch-fidelity"
   ]
  },
  {
   "cell_type": "markdown",
   "metadata": {},
   "source": [
    "# Imports"
   ]
  },
  {
   "cell_type": "code",
   "execution_count": 4,
   "metadata": {
    "_cell_guid": "b1076dfc-b9ad-4769-8c92-a6c4dae69d19",
    "_uuid": "8f2839f25d086af736a60e9eeb907d3b93b6e0e5",
    "execution": {
     "iopub.execute_input": "2025-01-07T10:14:51.717260Z",
     "iopub.status.busy": "2025-01-07T10:14:51.716680Z",
     "iopub.status.idle": "2025-01-07T10:14:51.723968Z",
     "shell.execute_reply": "2025-01-07T10:14:51.722782Z",
     "shell.execute_reply.started": "2025-01-07T10:14:51.717207Z"
    },
    "trusted": true
   },
   "outputs": [],
   "source": [
    "from torchmetrics.image.inception import InceptionScore\n",
    "\n",
    "import torch\n",
    "import matplotlib.pyplot as plt\n",
    "import os\n",
    "import cv2\n",
    "import numpy as np\n",
    "import pickle\n",
    "from tqdm import tqdm"
   ]
  },
  {
   "cell_type": "code",
   "execution_count": 5,
   "metadata": {
    "execution": {
     "iopub.execute_input": "2025-01-07T10:14:51.725767Z",
     "iopub.status.busy": "2025-01-07T10:14:51.725467Z",
     "iopub.status.idle": "2025-01-07T10:14:51.741759Z",
     "shell.execute_reply": "2025-01-07T10:14:51.740371Z",
     "shell.execute_reply.started": "2025-01-07T10:14:51.725738Z"
    },
    "trusted": true
   },
   "outputs": [],
   "source": [
    "#torch.manual_seed(0)\n",
    "#np.random.seed(0)\n",
    "torch.use_deterministic_algorithms(True)"
   ]
  },
  {
   "cell_type": "markdown",
   "metadata": {},
   "source": [
    "# Read inputs"
   ]
  },
  {
   "cell_type": "code",
   "execution_count": 6,
   "metadata": {
    "execution": {
     "iopub.execute_input": "2025-01-07T10:14:51.743964Z",
     "iopub.status.busy": "2025-01-07T10:14:51.743476Z",
     "iopub.status.idle": "2025-01-07T10:14:51.891794Z",
     "shell.execute_reply": "2025-01-07T10:14:51.890589Z",
     "shell.execute_reply.started": "2025-01-07T10:14:51.743926Z"
    },
    "trusted": true
   },
   "outputs": [],
   "source": [
    "# CHANGE HERE\n",
    "modelName = 'DALL-E_512'\n",
    "\n",
    "#DALL-E\n",
    "if modelName == 'DALL-E_1024' or modelName == 'DALL-E_512':\n",
    "    input_image_path = '' # path to the DALL 1024 or DALL 512 image files\n",
    "    image_files = os.listdir(input_image_path)\n",
    "\n",
    "elif modelName == 'SDXL_1024':\n",
    "    image_files = '' # path to the SDXL_1024 pkl file\n",
    "\n",
    "elif modelName == 'SDXL_TURBO_1024':\n",
    "    image_files = '' # path to the SDXL_TUBRO_1024 pkl file\n",
    "\n",
    "elif modelName == 'FLUX_SCHNELL_1024':\n",
    "    image_files = '' # path to the FLUX_SCHNELL_1024 pkl file\n",
    "\n",
    "elif modelName == 'SDXL_512':\n",
    "    image_files = '' # path to the SDXL_512 pkl file\n",
    "\n",
    "elif modelName == 'SDXL_TURBO_512':\n",
    "    image_files = '' # path to the SDXL_TURBO_512 pkl file\n",
    "\n",
    "elif modelName == 'FLUX_SCHNELL_512':\n",
    "    image_files = '' # path to the FLUX_SCHNELL_512 pkl file"
   ]
  },
  {
   "cell_type": "markdown",
   "metadata": {},
   "source": [
    "# Compute Inception Score (single value for all images)"
   ]
  },
  {
   "cell_type": "code",
   "execution_count": 8,
   "metadata": {
    "execution": {
     "iopub.execute_input": "2025-01-07T10:15:45.483283Z",
     "iopub.status.busy": "2025-01-07T10:15:45.482770Z",
     "iopub.status.idle": "2025-01-07T10:21:40.583572Z",
     "shell.execute_reply": "2025-01-07T10:21:40.580956Z",
     "shell.execute_reply.started": "2025-01-07T10:15:45.483246Z"
    },
    "trusted": true
   },
   "outputs": [
    {
     "name": "stderr",
     "output_type": "stream",
     "text": [
      "100%|██████████| 200/200 [00:08<00:00, 23.49it/s]\n",
      "/opt/conda/lib/python3.10/site-packages/torchmetrics/utilities/prints.py:43: UserWarning: Metric `InceptionScore` will save all extracted features in buffer. For large datasets this may lead to large memory footprint.\n",
      "  warnings.warn(*args, **kwargs)  # noqa: B028\n"
     ]
    },
    {
     "name": "stdout",
     "output_type": "stream",
     "text": [
      "torch.Size([200, 3, 512, 512])\n",
      "xxxxxxxxx\n",
      "DALL-E_512\n"
     ]
    },
    {
     "name": "stderr",
     "output_type": "stream",
     "text": [
      "100%|██████████| 200/200 [00:04<00:00, 46.31it/s]\n"
     ]
    },
    {
     "name": "stdout",
     "output_type": "stream",
     "text": [
      "torch.Size([200, 3, 512, 512])\n",
      "xxxxxxxxx\n",
      "DALL-E_512\n"
     ]
    },
    {
     "name": "stderr",
     "output_type": "stream",
     "text": [
      "100%|██████████| 200/200 [00:04<00:00, 47.27it/s]\n"
     ]
    },
    {
     "name": "stdout",
     "output_type": "stream",
     "text": [
      "torch.Size([200, 3, 512, 512])\n",
      "xxxxxxxxx\n",
      "DALL-E_512\n"
     ]
    },
    {
     "name": "stderr",
     "output_type": "stream",
     "text": [
      "100%|██████████| 200/200 [00:04<00:00, 46.60it/s]\n"
     ]
    },
    {
     "name": "stdout",
     "output_type": "stream",
     "text": [
      "torch.Size([200, 3, 512, 512])\n",
      "xxxxxxxxx\n",
      "DALL-E_512\n"
     ]
    },
    {
     "name": "stderr",
     "output_type": "stream",
     "text": [
      "100%|██████████| 200/200 [00:04<00:00, 46.39it/s]\n"
     ]
    },
    {
     "name": "stdout",
     "output_type": "stream",
     "text": [
      "torch.Size([200, 3, 512, 512])\n",
      "xxxxxxxxx\n",
      "DALL-E_512\n"
     ]
    }
   ],
   "source": [
    "inceptionScore = []\n",
    "\n",
    "# just to check if the value of inception score is consistent across computations\n",
    "for i in range(5):\n",
    "    pixelTensorList = []\n",
    "    \n",
    "    if modelName == 'DALL-E_512' or modelName == 'DALL-E_1024':\n",
    "        for i in tqdm(range(len(image_files))):\n",
    "            image_path = os.path.join(input_image_path, image_files[i])\n",
    "            im = cv2.imread(image_path)\n",
    "            if modelName == 'DALL-E_512':\n",
    "                im = cv2.resize(im, (512, 512))\n",
    "            image = cv2.cvtColor(im, cv2.COLOR_BGR2RGB)\n",
    "            pixels = np.array(image)\n",
    "            pixelTensorList.append(torch.from_numpy(pixels))\n",
    "                    \n",
    "    elif modelName == 'SDXL_512' or modelName == 'SDXL_1024':\n",
    "        with open(image_files, 'rb') as f:\n",
    "            images = pickle.load(f)\n",
    "        for im in tqdm(images):\n",
    "            #image = cv2.cvtColor(im, cv2.COLOR_BGR2RGB)\n",
    "            pixels = torch.from_numpy(np.array(im))\n",
    "            pixelTensorList.append(pixels)\n",
    "    \n",
    "    elif modelName == 'FLUX_SCHNELL_512' or modelName == 'FLUX_SCHNELL_1024':\n",
    "        with open(image_files, 'rb') as f:\n",
    "            images = pickle.load(f)\n",
    "        for im in tqdm(images):\n",
    "            #image = cv2.cvtColor(im, cv2.COLOR_BGR2RGB)\n",
    "            pixels = np.array(im)\n",
    "            pixelTensorList.append(torch.from_numpy(pixels))\n",
    "            \n",
    "    elif modelName == 'SDXL_TURBO_512' or modelName == 'SDXL_TURBO_1024':\n",
    "        with open(image_files, 'rb') as f:\n",
    "            images = pickle.load(f)\n",
    "        for im in tqdm(images):\n",
    "            #image = cv2.cvtColor(im, cv2.COLOR_BGR2RGB)\n",
    "            pixels = np.array(im)\n",
    "            #print(pixels.shape)\n",
    "            pixelTensorList.append(torch.from_numpy(pixels))\n",
    "    \n",
    "    pixelTensor = torch.stack(pixelTensorList).permute(0, 3, 1, 2)\n",
    "    print(pixelTensor.shape)\n",
    "\n",
    "    torch.manual_seed(0) \n",
    "\n",
    "    inception = InceptionScore()\n",
    "   \n",
    "    print(modelName)\n",
    "    inception.update(pixelTensor)\n",
    "    inceptionScore.append(inception.compute())\n",
    "    #break"
   ]
  },
  {
   "cell_type": "code",
   "execution_count": 9,
   "metadata": {
    "execution": {
     "iopub.execute_input": "2025-01-07T10:21:40.587951Z",
     "iopub.status.busy": "2025-01-07T10:21:40.587402Z",
     "iopub.status.idle": "2025-01-07T10:21:40.610687Z",
     "shell.execute_reply": "2025-01-07T10:21:40.609121Z",
     "shell.execute_reply.started": "2025-01-07T10:21:40.587903Z"
    },
    "trusted": true
   },
   "outputs": [
    {
     "name": "stdout",
     "output_type": "stream",
     "text": [
      "inceptionScore:  (tensor(8.9759), tensor(1.2859))\n",
      "coefficientOfVariation:  tensor(0.1433)\n",
      "inceptionScore:  (tensor(8.9759), tensor(1.2859))\n",
      "coefficientOfVariation:  tensor(0.1433)\n",
      "inceptionScore:  (tensor(8.9759), tensor(1.2859))\n",
      "coefficientOfVariation:  tensor(0.1433)\n",
      "inceptionScore:  (tensor(8.9759), tensor(1.2859))\n",
      "coefficientOfVariation:  tensor(0.1433)\n",
      "inceptionScore:  (tensor(8.9759), tensor(1.2859))\n",
      "coefficientOfVariation:  tensor(0.1433)\n"
     ]
    }
   ],
   "source": [
    "for i in inceptionScore:\n",
    "    print('inceptionScore: ', i)\n",
    "    print('coefficientOfVariation: ', i[1]/i[0])"
   ]
  },
  {
   "cell_type": "code",
   "execution_count": 10,
   "metadata": {
    "execution": {
     "iopub.execute_input": "2025-01-07T10:21:40.612983Z",
     "iopub.status.busy": "2025-01-07T10:21:40.612522Z",
     "iopub.status.idle": "2025-01-07T10:21:40.627728Z",
     "shell.execute_reply": "2025-01-07T10:21:40.626220Z",
     "shell.execute_reply.started": "2025-01-07T10:21:40.612932Z"
    },
    "trusted": true
   },
   "outputs": [],
   "source": [
    "import pickle\n",
    "\n",
    "inceptionScoreFile = '' # path to write the inception score in a file (this is optional as the computation of IS is quick)\n",
    "with open(inceptionScoreFile+modelName+'.pkl', 'wb') as f:\n",
    "    pickle.dump(inceptionScore, f)"
   ]
  },
  {
   "cell_type": "code",
   "execution_count": null,
   "metadata": {
    "trusted": true
   },
   "outputs": [],
   "source": [
    "# to ensure reproducibility in the random generation \n",
    "# https://pytorch.org/docs/stable/notes/randomness.html\n",
    "\n",
    "# function used to create subsets in the inception score computation\n",
    "# https://pytorch.org/docs/stable/generated/torch.chunk.html\n",
    "\n",
    "# inception score lightning AI implementation\n",
    "# https://github.com/Lightning-AI/torchmetrics/blob/master/src/torchmetrics/image/inception.py#L34-L220"
   ]
  }
 ],
 "metadata": {
  "kaggle": {
   "accelerator": "none",
   "dataSources": [
    {
     "datasetId": 6019625,
     "sourceId": 9818041,
     "sourceType": "datasetVersion"
    },
    {
     "datasetId": 6243752,
     "sourceId": 10277568,
     "sourceType": "datasetVersion"
    },
    {
     "datasetId": 6366439,
     "sourceId": 10287424,
     "sourceType": "datasetVersion"
    },
    {
     "datasetId": 6416796,
     "sourceId": 10360974,
     "sourceType": "datasetVersion"
    },
    {
     "datasetId": 6417376,
     "sourceId": 10361754,
     "sourceType": "datasetVersion"
    },
    {
     "datasetId": 6417727,
     "sourceId": 10362244,
     "sourceType": "datasetVersion"
    },
    {
     "datasetId": 6438858,
     "sourceId": 10392744,
     "sourceType": "datasetVersion"
    }
   ],
   "dockerImageVersionId": 30786,
   "isGpuEnabled": false,
   "isInternetEnabled": true,
   "language": "python",
   "sourceType": "notebook"
  },
  "kernelspec": {
   "display_name": "Python 3",
   "language": "python",
   "name": "python3"
  },
  "language_info": {
   "codemirror_mode": {
    "name": "ipython",
    "version": 3
   },
   "file_extension": ".py",
   "mimetype": "text/x-python",
   "name": "python",
   "nbconvert_exporter": "python",
   "pygments_lexer": "ipython3",
   "version": "3.10.14"
  }
 },
 "nbformat": 4,
 "nbformat_minor": 4
}
